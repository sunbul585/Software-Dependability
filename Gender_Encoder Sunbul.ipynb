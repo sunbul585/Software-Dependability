{
  "nbformat": 4,
  "nbformat_minor": 0,
  "metadata": {
    "colab": {
      "name": "Gender Encoder.ipynb",
      "provenance": [],
      "collapsed_sections": []
    },
    "kernelspec": {
      "name": "python3",
      "display_name": "Python 3"
    },
    "language_info": {
      "name": "python"
    }
  },
  "cells": [
    {
      "cell_type": "code",
      "metadata": {
        "colab": {
          "base_uri": "https://localhost:8080/"
        },
        "id": "Sv-NTFyZex46",
        "outputId": "eee817f5-7aa5-4c95-c3ca-a8124c6eb0e7"
      },
      "source": [
        "from google.colab import drive\n",
        "drive.mount('/content/drive')"
      ],
      "execution_count": 7,
      "outputs": [
        {
          "output_type": "stream",
          "text": [
            "Drive already mounted at /content/drive; to attempt to forcibly remount, call drive.mount(\"/content/drive\", force_remount=True).\n"
          ],
          "name": "stdout"
        }
      ]
    },
    {
      "cell_type": "code",
      "metadata": {
        "colab": {
          "base_uri": "https://localhost:8080/"
        },
        "id": "HTRmLKU9fWSk",
        "outputId": "db5e5520-1b8e-4934-ee57-bf47693152a3"
      },
      "source": [
        "! ls"
      ],
      "execution_count": 8,
      "outputs": [
        {
          "output_type": "stream",
          "text": [
            "drive  sample_data\n"
          ],
          "name": "stdout"
        }
      ]
    },
    {
      "cell_type": "code",
      "metadata": {
        "id": "q8q0cgKHf5t8"
      },
      "source": [
        "from scipy.spatial import distance as dist\n",
        "from imutils import face_utils\n",
        "import imutils\n",
        "import dlib\n",
        "import cv2\n",
        "import os\n",
        "import numpy as np\n",
        "import pandas as pd\n",
        "\n",
        "\n",
        "#Calculating Distances from d1 to d8\n",
        "\n",
        "def distance(mouth, nose, lefteye, righteye):\n",
        " d1 = dist.euclidean(mouth[0], mouth[6])\n",
        " d2 = dist.euclidean(mouth[3], mouth[9])\n",
        " d3 = dist.euclidean(mouth[0], nose[4])\n",
        " d4 = dist.euclidean(mouth[6], nose[8])\n",
        " d5 = dist.euclidean(mouth[0], righteye[0])\n",
        " d6 = dist.euclidean(mouth[6], lefteye[3])\n",
        " d7 = dist.euclidean(mouth[2], mouth[10])\n",
        " d8 = dist.euclidean(mouth[4], mouth[8])\n",
        "\n",
        " return d1,d2,d3,d4,d5,d6,d7,d8\n",
        "\n",
        "shape_predictor = '/content/drive/MyDrive/shape_predictor_68_face_landmarks.dat'\n",
        "\n",
        "detector = dlib.get_frontal_face_detector()\n",
        "predictor = dlib.shape_predictor(shape_predictor)\n",
        "\n",
        "(mStart, mEnd) = face_utils.FACIAL_LANDMARKS_IDXS['mouth']\n",
        "(nStart, nEnd) = face_utils.FACIAL_LANDMARKS_IDXS['nose']\n",
        "(eLStart, eLEnd) = face_utils.FACIAL_LANDMARKS_IDXS['left_eye']\n",
        "(eRStart, eREnd) = face_utils.FACIAL_LANDMARKS_IDXS['right_eye']\n",
        "\n",
        "\n",
        "directory = '/content/drive/MyDrive/RefinedDataSet'\n",
        "for filename in os.listdir(directory):\n",
        "    if filename.endswith(\".jpg\") or filename.endswith(\".png\"):\n",
        "        total= directory+'/'+filename\n",
        "        frame=cv2.imread(total)\n",
        "        frame=imutils.resize(frame, width=450)\n",
        "        gray=cv2.cvtColor(frame, cv2.COLOR_BGR2GRAY)\n",
        "        rects=detector(gray, 0)\n",
        "        for rect in rects:\n",
        "            shape = predictor(gray, rect)\n",
        "            shape = face_utils.shape_to_np(shape)\n",
        "\n",
        "            mouth = shape[mStart:mEnd]\n",
        "            nose = shape[nStart:nEnd]\n",
        "            lefteye = shape[eLStart:eLEnd]\n",
        "            rightteye = shape[eRStart:eREnd]\n",
        "            array=[distance(mouth, nose, lefteye, rightteye)]\n",
        "          #  print(array)\n",
        "          #Save Distances into CSV File\n",
        "            results=pd.DataFrame(array)\n",
        "            results.to_csv('result6.csv',mode='a',header='True',index='false')"
      ],
      "execution_count": 9,
      "outputs": []
    },
    {
      "cell_type": "code",
      "metadata": {
        "colab": {
          "base_uri": "https://localhost:8080/"
        },
        "id": "t-Vj4dovhG1X",
        "outputId": "daacf597-0b38-434f-c5db-9656379213d0"
      },
      "source": [
        "\n",
        "\t\t\t#RandomForestClassifier\n",
        "import pandas as pd\n",
        "from sklearn.model_selection import train_test_split\n",
        "from sklearn.ensemble import RandomForestClassifier\n",
        "from sklearn.metrics import classification_report, confusion_matrix, accuracy_score\n",
        "from sklearn.preprocessing import StandardScaler \n",
        "\n",
        "path =('/content/drive/MyDrive/result.csv') #CSV PATH\n",
        "dataset =pd.read_csv(path)\n",
        "\n",
        "X = dataset.iloc[:,1:8]  #X equal to all distances\n",
        "y = dataset.iloc[:, 0].values    #Y equal to gender\n",
        "\n",
        "X_train, X_test, y_train, y_test = train_test_split(X, y, test_size = 0.2)\n",
        "\n",
        "sc= StandardScaler()   #DataPreProcessing Standarlization \n",
        "X_train=sc.fit_transform(X_train)\n",
        "X_test=sc.transform(X_test)\n",
        "\n",
        "classifier = RandomForestClassifier(n_estimators =50,random_state= 0)\n",
        "classifier.fit(X_train, y_train)\n",
        "y_pred = classifier.predict(X_test)\n",
        "\n",
        "result = confusion_matrix(y_test, y_pred)\n",
        "print(\"Confusion Matrix:\")\n",
        "print(result)\n",
        "result1 = classification_report(y_test, y_pred)\n",
        "print(\"Classification Report:\",)\n",
        "print (result1)\n",
        "result2 = accuracy_score(y_test,y_pred)\n",
        "print(\"Accuracy:\",result2)"
      ],
      "execution_count": 10,
      "outputs": [
        {
          "output_type": "stream",
          "text": [
            "Confusion Matrix:\n",
            "[[5 1]\n",
            " [2 4]]\n",
            "Classification Report:\n",
            "              precision    recall  f1-score   support\n",
            "\n",
            "           0       0.71      0.83      0.77         6\n",
            "           1       0.80      0.67      0.73         6\n",
            "\n",
            "    accuracy                           0.75        12\n",
            "   macro avg       0.76      0.75      0.75        12\n",
            "weighted avg       0.76      0.75      0.75        12\n",
            "\n",
            "Accuracy: 0.75\n"
          ],
          "name": "stdout"
        }
      ]
    },
    {
      "cell_type": "code",
      "metadata": {
        "id": "BJuPxoAvho2Q"
      },
      "source": [
        ""
      ],
      "execution_count": 10,
      "outputs": []
    },
    {
      "cell_type": "code",
      "metadata": {
        "id": "9tKOcE7bh3fA"
      },
      "source": [
        ""
      ],
      "execution_count": 10,
      "outputs": []
    }
  ]
}